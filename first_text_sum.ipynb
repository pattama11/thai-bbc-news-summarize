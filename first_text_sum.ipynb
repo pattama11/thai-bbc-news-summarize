{
 "cells": [
  {
   "cell_type": "markdown",
   "metadata": {},
   "source": [
    "# Ref: https://medium.com/analytics-vidhya/simple-text-summarization-using-nltk-eedc36ebaaf8"
   ]
  },
  {
   "cell_type": "markdown",
   "metadata": {},
   "source": [
    "Two different approaches to Text Summarization\n",
    "\n",
    "Extraction-based summarization: Here, content is extracted from the original data, but the extracted content is not modified in any way. In Simple words we identify the important sentences or key — phrases from the original text and extract only those from the text.\n",
    "\n",
    "In machine learning, extractive summarization usually involves weighing the essential sections of sentences and using the results to generate summaries.\n",
    "\n",
    "Example:\n",
    "\n",
    "Before Summarization\n",
    "\n",
    "John and Joseph took a taxi to attend the night party in the city. While in the party, John collapsed and was rushed to the hospital.\n",
    "\n",
    "After Summarization\n",
    "\n",
    "John and Joseph attend party. John rushed hospital.\n",
    "\n",
    "Abstraction-based summarization: Here summary of the texts can be different from original text, which is contrast to extraction based summarization where which used only existing sentences that were present. Advanced deep learning techniques are used to generate the new summary.\n",
    "\n",
    "Example:\n",
    "\n",
    "Before Summarization\n",
    "\n",
    "John and Joseph took a taxi to attend the night party in the city. While in the party, John collapsed and was rushed to the hospital.\n",
    "\n",
    "After Summarization\n",
    "\n",
    "John was hospitalized after attending the party.\n",
    "\n",
    "In this article, we will use extraction based summarization by picking the sentences with maximum importance score to form the summary using NLTK toolkit."
   ]
  },
  {
   "cell_type": "markdown",
   "metadata": {},
   "source": [
    "Steps involved to create the text summary\n",
    "\n",
    "1) Data collection from Wikipedia using web scraping(using Urllib library)\n",
    "\n",
    "2) Parsing the URL content of the data(using BeautifulSoup library)\n",
    "\n",
    "3) Data clean-up like removing special characters, numeric values, stop words and punctuations.\n",
    "\n",
    "4) Tokenization — Creation of tokens (Word tokens and Sentence tokens)\n",
    "\n",
    "5) Calculate the word frequency for each word.\n",
    "\n",
    "6) Calculate the weighted frequency for each sentence.\n",
    "\n",
    "7) Creation of summary choosing 30% of top weighted sentences."
   ]
  },
  {
   "cell_type": "code",
   "execution_count": 25,
   "metadata": {},
   "outputs": [
    {
     "data": {
      "text/html": [
       "<div>\n",
       "<style scoped>\n",
       "    .dataframe tbody tr th:only-of-type {\n",
       "        vertical-align: middle;\n",
       "    }\n",
       "\n",
       "    .dataframe tbody tr th {\n",
       "        vertical-align: top;\n",
       "    }\n",
       "\n",
       "    .dataframe thead th {\n",
       "        text-align: right;\n",
       "    }\n",
       "</style>\n",
       "<table border=\"1\" class=\"dataframe\">\n",
       "  <thead>\n",
       "    <tr style=\"text-align: right;\">\n",
       "      <th></th>\n",
       "      <th>Unnamed: 0</th>\n",
       "      <th>title</th>\n",
       "      <th>contents</th>\n",
       "    </tr>\n",
       "  </thead>\n",
       "  <tbody>\n",
       "    <tr>\n",
       "      <th>0</th>\n",
       "      <td>0</td>\n",
       "      <td>The Thais caught up in the Israel-Gaza war</td>\n",
       "      <td>In a village lying close to the Mekong River, ...</td>\n",
       "    </tr>\n",
       "    <tr>\n",
       "      <th>1</th>\n",
       "      <td>1</td>\n",
       "      <td>Catfishing: How I hunted down the gang imperso...</td>\n",
       "      <td>James Blake, an entrepreneur and owner of a di...</td>\n",
       "    </tr>\n",
       "    <tr>\n",
       "      <th>2</th>\n",
       "      <td>2</td>\n",
       "      <td>Hamas attack: 12 Thais killed and 11 kidnapped...</td>\n",
       "      <td>Twelve Thais have been killed and another 11 k...</td>\n",
       "    </tr>\n",
       "    <tr>\n",
       "      <th>3</th>\n",
       "      <td>3</td>\n",
       "      <td>Bangkok: Parents of Siam Paragon mall shooter ...</td>\n",
       "      <td>The parents of a 14-year-old boy who fatally s...</td>\n",
       "    </tr>\n",
       "    <tr>\n",
       "      <th>4</th>\n",
       "      <td>4</td>\n",
       "      <td>Bangkok: Two dead and 14-year-old held over Si...</td>\n",
       "      <td>A 14-year-old boy has been arrested after two ...</td>\n",
       "    </tr>\n",
       "    <tr>\n",
       "      <th>...</th>\n",
       "      <td>...</td>\n",
       "      <td>...</td>\n",
       "      <td>...</td>\n",
       "    </tr>\n",
       "    <tr>\n",
       "      <th>888</th>\n",
       "      <td>888</td>\n",
       "      <td>Thai princess leaves $40,000 custom toilet 'un...</td>\n",
       "      <td>A toilet that cost an estimated $40,000 (£28,3...</td>\n",
       "    </tr>\n",
       "    <tr>\n",
       "      <th>889</th>\n",
       "      <td>889</td>\n",
       "      <td>Missing backpacker Grace Taylor found in Thailand</td>\n",
       "      <td>A British backpacker has been found after goin...</td>\n",
       "    </tr>\n",
       "    <tr>\n",
       "      <th>890</th>\n",
       "      <td>890</td>\n",
       "      <td>Grace Taylor missing: Family of UK woman in Th...</td>\n",
       "      <td>A 21-year-old woman from Swanage, Dorset is mi...</td>\n",
       "    </tr>\n",
       "    <tr>\n",
       "      <th>891</th>\n",
       "      <td>891</td>\n",
       "      <td>Bangkok airport safety issues 'must be addressed'</td>\n",
       "      <td>The airline industry has called on the Thai go...</td>\n",
       "    </tr>\n",
       "    <tr>\n",
       "      <th>892</th>\n",
       "      <td>892</td>\n",
       "      <td>Bangkok Erawan shrine bomb: Uighur suspects pl...</td>\n",
       "      <td>Two ethnic Uighur Chinese men have pleaded not...</td>\n",
       "    </tr>\n",
       "  </tbody>\n",
       "</table>\n",
       "<p>893 rows × 3 columns</p>\n",
       "</div>"
      ],
      "text/plain": [
       "     Unnamed: 0                                              title  \\\n",
       "0             0         The Thais caught up in the Israel-Gaza war   \n",
       "1             1  Catfishing: How I hunted down the gang imperso...   \n",
       "2             2  Hamas attack: 12 Thais killed and 11 kidnapped...   \n",
       "3             3  Bangkok: Parents of Siam Paragon mall shooter ...   \n",
       "4             4  Bangkok: Two dead and 14-year-old held over Si...   \n",
       "..          ...                                                ...   \n",
       "888         888  Thai princess leaves $40,000 custom toilet 'un...   \n",
       "889         889  Missing backpacker Grace Taylor found in Thailand   \n",
       "890         890  Grace Taylor missing: Family of UK woman in Th...   \n",
       "891         891  Bangkok airport safety issues 'must be addressed'   \n",
       "892         892  Bangkok Erawan shrine bomb: Uighur suspects pl...   \n",
       "\n",
       "                                              contents  \n",
       "0    In a village lying close to the Mekong River, ...  \n",
       "1    James Blake, an entrepreneur and owner of a di...  \n",
       "2    Twelve Thais have been killed and another 11 k...  \n",
       "3    The parents of a 14-year-old boy who fatally s...  \n",
       "4    A 14-year-old boy has been arrested after two ...  \n",
       "..                                                 ...  \n",
       "888  A toilet that cost an estimated $40,000 (£28,3...  \n",
       "889  A British backpacker has been found after goin...  \n",
       "890  A 21-year-old woman from Swanage, Dorset is mi...  \n",
       "891  The airline industry has called on the Thai go...  \n",
       "892  Two ethnic Uighur Chinese men have pleaded not...  \n",
       "\n",
       "[893 rows x 3 columns]"
      ]
     },
     "execution_count": 25,
     "metadata": {},
     "output_type": "execute_result"
    }
   ],
   "source": [
    "# text = \"\"\"The Extractive based summarization method selects informative sentences from the document as they exactly appear in source \n",
    "# based on specific criteria to form summary. The main challenge before extractive summarization is to decide which sentences from \n",
    "# the input document is significant and likely to be included in the summary. For this task, sentence scoring is employed based on \n",
    "# features of sentences. It first, assigns a score to each sentence based on feature then rank sentences according to their score. \n",
    "# Sentences with the highest score are likely to be included in final summary. Following methods are the technique of extractive \n",
    "# text summarization.\"\"\"\n",
    "import pandas as pd\n",
    "data = pd.read_csv('data_messy.csv')\n",
    "df = pd.DataFrame(data)\n",
    "df"
   ]
  },
  {
   "cell_type": "code",
   "execution_count": 26,
   "metadata": {},
   "outputs": [
    {
     "data": {
      "text/plain": [
       "'In a village lying close to the Mekong River, Weerapon \"Golf\" Lapchan sits in the centre of a group of Thai elders as they tie white threads around his wrists and chant. They are literally calling his \"kwan\" or spirit back to his body, after his narrow escape during the Hamas attack on Israel on 7 October.The 34-year-old is one of more than 25,000 Thais who were working on farms and orchards in Israel when the Hamas militants stormed in from Gaza. At least 30 Thais were among the 200 or so foreign nationals who were killed in the attack. Now the Thai government is helping others, thousands of them, to return home. Thailand provides almost all the foreign farm labour in Israel. And there have been warnings of dire consequences for the country\\'s agricultural economy if large numbers of Thais choose to stay away after the Hamas attack. Many of the Thai workers have to borrow money to go to Israel and now they are returning, jobless and in debt.  Yet some like Golf never want to go back. On the morning of 7 October, when Golf and his co-workers saw rockets being fired, and then intercepted by Israel\\'s Iron Dome defence system, he says they were not unduly worried. Golf had been working at an orange orchard in Yesha, just 5km (three miles) from the border with Gaza, for nearly a year. He had experienced rockets flying overhead before. When they heard gunfire, however, they realised it was more serious, and hid most of that day. In the evening, says Golf, the Hamas attackers returned, throwing grenades and setting the rooms where they were hiding alight. He and 11 others made a run for it. \"We jumped over the wall, and they shot at us from behind. Bang, bang, bang, bang.\" He says he was wearing only a pair of red boxer shorts when he ran to the middle of the orchard. He and the others crouched down, turning off their phones so the attackers couldn\\'t see the light. \"We were all shocked and kept quiet all night - so quiet that we could hear the falling leaves,\" he says. The international victims of Hamas\\' assault on IsraelWhat is happening in Israel and Gaza, and why now?How Hamas staged lightning assault no-one thought possibleGolf was brought back to Thailand on a government-organised evacuation flight on 13 October. He has decided he will not go back, no matter what he might be offered. Death was just seconds away that day, he says. All 12 of them have decided that they never want to face that again.At least 19 Thai workers are believed to have been abducted by Hamas, with many more still missing.  In another village to the north, Narissara Chanthasang has had no news of her husband Nattapong since the morning of the attack. He had phoned her to tell her there was shooting, and that he was running away.He left her and his six-year-old son in June last year to work on an avocado and pomegranate farm in the Nir Oz kibbutz, not far from where Golf was working. Nir Oz was one of the communities worst affected by the attack. One in four of those who lived there are believed to have been killed or kidnapped by the militants, including many children. Narissara\\'s only hope is that Nattapong may have been abducted, although he is not on the government\\'s list of Thai hostages. People have always moved away from north-eastern Thailand in search of work. The mainly rural region is one of the poorest in the country, where rice farming provides only a bare subsistence living and well-paid jobs are scarce. More than 80% of Thai workers in Israel are from the north-east. They started going to Israel in the 1980s and the arrangement was formalised in an agreement between the two governments in 2011. It has not been without controversy. Human rights and labour groups have in the past complained about the Thais being overworked in unsafe conditions. People told the BBC they have to pay significantly more than the official fees of around 70,000 baht ($2,100) to get to Israel - often up to 120,000 baht including extra costs and unofficial payments. But they also say they can earn seven to eight times more than in Thailand. Some praised their Israeli employers for looking after them and paying them on time. \"Partly it\\'s about improving their social status,\" says Poonnatree Jiaviriyaboonya, an anthropologist at Nakhon Phanom University. \"Those who came back from working overseas get more respect. They seem more cosmopolitan, more educated. But in reality, [they] are still poor migrant workers, poor rice farmers who have been neglected by the government. We need to shake up our policies for developing this region so people do not have to leave their families and go overseas.\"The debts they have incurred are a worry for those who have come back early. They borrow money against their land or their house - and they normally work in Israel for at least five years, so they can pay off what they owe. Golf\\'s younger sister took out a loan for him to go last year. Narissara\\'s mother mortgaged her rice-fields to raise the 200,000 baht they needed to send Nattapong to Israel.This is weighing on the mind of Anusorn Kamang, a 25-year-old whose mother also mortgaged her land for him to go to Israel. He spent a harrowing few days under constant rocket attack at the organic vegetable farm where he was working, before borrowing more money for his flight home. The Thai government has promised to reimburse that cost, but his mother\\'s debt is still there, and he is thinking about going back, once the fighting stops.\"I earned a lot in Israel, and my employer was good to me. Working here won\\'t get me anywhere. It\\'s enough for food, but that\\'s all. I want a house and a car. I have none of that yet.\"Follow live: Latest updatesExplained: What is happening in Israel and Gaza, and why now?History behind the story: The Israel-Palestinian conflictHostages: Who are the hostages taken by Hamas from Israel?Gaza: Dead and wounded strain Gaza hospitals as air strikes intensify'"
      ]
     },
     "execution_count": 26,
     "metadata": {},
     "output_type": "execute_result"
    }
   ],
   "source": [
    "text = df.head(1).contents\n",
    "text = text.values[0]\n",
    "text"
   ]
  },
  {
   "cell_type": "code",
   "execution_count": 27,
   "metadata": {},
   "outputs": [],
   "source": [
    "import spacy\n",
    "from spacy.lang.en.stop_words import STOP_WORDS\n",
    "from string import punctuation"
   ]
  },
  {
   "cell_type": "markdown",
   "metadata": {},
   "source": [
    "3) Tokenization & Data clean up\n",
    "\n",
    "# Import the stop words from NLTK toolkit and punctuations from strings library.\n",
    "\n",
    "Stop words are a set of commonly used words in any language. For example, in English, “the”, “is” and “and”, would easily qualify as stop words. In NLP and text mining applications, stop words are used to eliminate unimportant words, allowing applications to focus on the important words instead."
   ]
  },
  {
   "cell_type": "code",
   "execution_count": 28,
   "metadata": {},
   "outputs": [],
   "source": [
    "stopword = list(STOP_WORDS)"
   ]
  },
  {
   "cell_type": "code",
   "execution_count": 29,
   "metadata": {},
   "outputs": [],
   "source": [
    "nlp = spacy.load('en_core_web_sm')"
   ]
  },
  {
   "cell_type": "code",
   "execution_count": 30,
   "metadata": {},
   "outputs": [],
   "source": [
    "doc = nlp(text)"
   ]
  },
  {
   "cell_type": "code",
   "execution_count": 31,
   "metadata": {},
   "outputs": [
    {
     "name": "stdout",
     "output_type": "stream",
     "text": [
      "['In', 'a', 'village', 'lying', 'close', 'to', 'the', 'Mekong', 'River', ',', 'Weerapon', '\"', 'Golf', '\"', 'Lapchan', 'sits', 'in', 'the', 'centre', 'of', 'a', 'group', 'of', 'Thai', 'elders', 'as', 'they', 'tie', 'white', 'threads', 'around', 'his', 'wrists', 'and', 'chant', '.', 'They', 'are', 'literally', 'calling', 'his', '\"', 'kwan', '\"', 'or', 'spirit', 'back', 'to', 'his', 'body', ',', 'after', 'his', 'narrow', 'escape', 'during', 'the', 'Hamas', 'attack', 'on', 'Israel', 'on', '7', 'October', '.', 'The', '34', '-', 'year', '-', 'old', 'is', 'one', 'of', 'more', 'than', '25,000', 'Thais', 'who', 'were', 'working', 'on', 'farms', 'and', 'orchards', 'in', 'Israel', 'when', 'the', 'Hamas', 'militants', 'stormed', 'in', 'from', 'Gaza', '.', 'At', 'least', '30', 'Thais', 'were', 'among', 'the', '200', 'or', 'so', 'foreign', 'nationals', 'who', 'were', 'killed', 'in', 'the', 'attack', '.', 'Now', 'the', 'Thai', 'government', 'is', 'helping', 'others', ',', 'thousands', 'of', 'them', ',', 'to', 'return', 'home', '.', 'Thailand', 'provides', 'almost', 'all', 'the', 'foreign', 'farm', 'labour', 'in', 'Israel', '.', 'And', 'there', 'have', 'been', 'warnings', 'of', 'dire', 'consequences', 'for', 'the', 'country', \"'s\", 'agricultural', 'economy', 'if', 'large', 'numbers', 'of', 'Thais', 'choose', 'to', 'stay', 'away', 'after', 'the', 'Hamas', 'attack', '.', 'Many', 'of', 'the', 'Thai', 'workers', 'have', 'to', 'borrow', 'money', 'to', 'go', 'to', 'Israel', 'and', 'now', 'they', 'are', 'returning', ',', 'jobless', 'and', 'in', 'debt', '.', ' ', 'Yet', 'some', 'like', 'Golf', 'never', 'want', 'to', 'go', 'back', '.', 'On', 'the', 'morning', 'of', '7', 'October', ',', 'when', 'Golf', 'and', 'his', 'co', '-', 'workers', 'saw', 'rockets', 'being', 'fired', ',', 'and', 'then', 'intercepted', 'by', 'Israel', \"'s\", 'Iron', 'Dome', 'defence', 'system', ',', 'he', 'says', 'they', 'were', 'not', 'unduly', 'worried', '.', 'Golf', 'had', 'been', 'working', 'at', 'an', 'orange', 'orchard', 'in', 'Yesha', ',', 'just', '5', 'km', '(', 'three', 'miles', ')', 'from', 'the', 'border', 'with', 'Gaza', ',', 'for', 'nearly', 'a', 'year', '.', 'He', 'had', 'experienced', 'rockets', 'flying', 'overhead', 'before', '.', 'When', 'they', 'heard', 'gunfire', ',', 'however', ',', 'they', 'realised', 'it', 'was', 'more', 'serious', ',', 'and', 'hid', 'most', 'of', 'that', 'day', '.', 'In', 'the', 'evening', ',', 'says', 'Golf', ',', 'the', 'Hamas', 'attackers', 'returned', ',', 'throwing', 'grenades', 'and', 'setting', 'the', 'rooms', 'where', 'they', 'were', 'hiding', 'alight', '.', 'He', 'and', '11', 'others', 'made', 'a', 'run', 'for', 'it', '.', '\"', 'We', 'jumped', 'over', 'the', 'wall', ',', 'and', 'they', 'shot', 'at', 'us', 'from', 'behind', '.', 'Bang', ',', 'bang', ',', 'bang', ',', 'bang', '.', '\"', 'He', 'says', 'he', 'was', 'wearing', 'only', 'a', 'pair', 'of', 'red', 'boxer', 'shorts', 'when', 'he', 'ran', 'to', 'the', 'middle', 'of', 'the', 'orchard', '.', 'He', 'and', 'the', 'others', 'crouched', 'down', ',', 'turning', 'off', 'their', 'phones', 'so', 'the', 'attackers', 'could', \"n't\", 'see', 'the', 'light', '.', '\"', 'We', 'were', 'all', 'shocked', 'and', 'kept', 'quiet', 'all', 'night', '-', 'so', 'quiet', 'that', 'we', 'could', 'hear', 'the', 'falling', 'leaves', ',', '\"', 'he', 'says', '.', 'The', 'international', 'victims', 'of', 'Hamas', \"'\", 'assault', 'on', 'IsraelWhat', 'is', 'happening', 'in', 'Israel', 'and', 'Gaza', ',', 'and', 'why', 'now?How', 'Hamas', 'staged', 'lightning', 'assault', 'no', '-', 'one', 'thought', 'possibleGolf', 'was', 'brought', 'back', 'to', 'Thailand', 'on', 'a', 'government', '-', 'organised', 'evacuation', 'flight', 'on', '13', 'October', '.', 'He', 'has', 'decided', 'he', 'will', 'not', 'go', 'back', ',', 'no', 'matter', 'what', 'he', 'might', 'be', 'offered', '.', 'Death', 'was', 'just', 'seconds', 'away', 'that', 'day', ',', 'he', 'says', '.', 'All', '12', 'of', 'them', 'have', 'decided', 'that', 'they', 'never', 'want', 'to', 'face', 'that', 'again', '.', 'At', 'least', '19', 'Thai', 'workers', 'are', 'believed', 'to', 'have', 'been', 'abducted', 'by', 'Hamas', ',', 'with', 'many', 'more', 'still', 'missing', '.', ' ', 'In', 'another', 'village', 'to', 'the', 'north', ',', 'Narissara', 'Chanthasang', 'has', 'had', 'no', 'news', 'of', 'her', 'husband', 'Nattapong', 'since', 'the', 'morning', 'of', 'the', 'attack', '.', 'He', 'had', 'phoned', 'her', 'to', 'tell', 'her', 'there', 'was', 'shooting', ',', 'and', 'that', 'he', 'was', 'running', 'away', '.', 'He', 'left', 'her', 'and', 'his', 'six', '-', 'year', '-', 'old', 'son', 'in', 'June', 'last', 'year', 'to', 'work', 'on', 'an', 'avocado', 'and', 'pomegranate', 'farm', 'in', 'the', 'Nir', 'Oz', 'kibbutz', ',', 'not', 'far', 'from', 'where', 'Golf', 'was', 'working', '.', 'Nir', 'Oz', 'was', 'one', 'of', 'the', 'communities', 'worst', 'affected', 'by', 'the', 'attack', '.', 'One', 'in', 'four', 'of', 'those', 'who', 'lived', 'there', 'are', 'believed', 'to', 'have', 'been', 'killed', 'or', 'kidnapped', 'by', 'the', 'militants', ',', 'including', 'many', 'children', '.', 'Narissara', \"'s\", 'only', 'hope', 'is', 'that', 'Nattapong', 'may', 'have', 'been', 'abducted', ',', 'although', 'he', 'is', 'not', 'on', 'the', 'government', \"'s\", 'list', 'of', 'Thai', 'hostages', '.', 'People', 'have', 'always', 'moved', 'away', 'from', 'north', '-', 'eastern', 'Thailand', 'in', 'search', 'of', 'work', '.', 'The', 'mainly', 'rural', 'region', 'is', 'one', 'of', 'the', 'poorest', 'in', 'the', 'country', ',', 'where', 'rice', 'farming', 'provides', 'only', 'a', 'bare', 'subsistence', 'living', 'and', 'well', '-', 'paid', 'jobs', 'are', 'scarce', '.', 'More', 'than', '80', '%', 'of', 'Thai', 'workers', 'in', 'Israel', 'are', 'from', 'the', 'north', '-', 'east', '.', 'They', 'started', 'going', 'to', 'Israel', 'in', 'the', '1980s', 'and', 'the', 'arrangement', 'was', 'formalised', 'in', 'an', 'agreement', 'between', 'the', 'two', 'governments', 'in', '2011', '.', 'It', 'has', 'not', 'been', 'without', 'controversy', '.', 'Human', 'rights', 'and', 'labour', 'groups', 'have', 'in', 'the', 'past', 'complained', 'about', 'the', 'Thais', 'being', 'overworked', 'in', 'unsafe', 'conditions', '.', 'People', 'told', 'the', 'BBC', 'they', 'have', 'to', 'pay', 'significantly', 'more', 'than', 'the', 'official', 'fees', 'of', 'around', '70,000', 'baht', '(', '$', '2,100', ')', 'to', 'get', 'to', 'Israel', '-', 'often', 'up', 'to', '120,000', 'baht', 'including', 'extra', 'costs', 'and', 'unofficial', 'payments', '.', 'But', 'they', 'also', 'say', 'they', 'can', 'earn', 'seven', 'to', 'eight', 'times', 'more', 'than', 'in', 'Thailand', '.', 'Some', 'praised', 'their', 'Israeli', 'employers', 'for', 'looking', 'after', 'them', 'and', 'paying', 'them', 'on', 'time', '.', '\"', 'Partly', 'it', \"'s\", 'about', 'improving', 'their', 'social', 'status', ',', '\"', 'says', 'Poonnatree', 'Jiaviriyaboonya', ',', 'an', 'anthropologist', 'at', 'Nakhon', 'Phanom', 'University', '.', '\"', 'Those', 'who', 'came', 'back', 'from', 'working', 'overseas', 'get', 'more', 'respect', '.', 'They', 'seem', 'more', 'cosmopolitan', ',', 'more', 'educated', '.', 'But', 'in', 'reality', ',', '[', 'they', ']', 'are', 'still', 'poor', 'migrant', 'workers', ',', 'poor', 'rice', 'farmers', 'who', 'have', 'been', 'neglected', 'by', 'the', 'government', '.', 'We', 'need', 'to', 'shake', 'up', 'our', 'policies', 'for', 'developing', 'this', 'region', 'so', 'people', 'do', 'not', 'have', 'to', 'leave', 'their', 'families', 'and', 'go', 'overseas', '.', '\"The', 'debts', 'they', 'have', 'incurred', 'are', 'a', 'worry', 'for', 'those', 'who', 'have', 'come', 'back', 'early', '.', 'They', 'borrow', 'money', 'against', 'their', 'land', 'or', 'their', 'house', '-', 'and', 'they', 'normally', 'work', 'in', 'Israel', 'for', 'at', 'least', 'five', 'years', ',', 'so', 'they', 'can', 'pay', 'off', 'what', 'they', 'owe', '.', 'Golf', \"'s\", 'younger', 'sister', 'took', 'out', 'a', 'loan', 'for', 'him', 'to', 'go', 'last', 'year', '.', 'Narissara', \"'s\", 'mother', 'mortgaged', 'her', 'rice', '-', 'fields', 'to', 'raise', 'the', '200,000', 'baht', 'they', 'needed', 'to', 'send', 'Nattapong', 'to', 'Israel', '.', 'This', 'is', 'weighing', 'on', 'the', 'mind', 'of', 'Anusorn', 'Kamang', ',', 'a', '25', '-', 'year', '-', 'old', 'whose', 'mother', 'also', 'mortgaged', 'her', 'land', 'for', 'him', 'to', 'go', 'to', 'Israel', '.', 'He', 'spent', 'a', 'harrowing', 'few', 'days', 'under', 'constant', 'rocket', 'attack', 'at', 'the', 'organic', 'vegetable', 'farm', 'where', 'he', 'was', 'working', ',', 'before', 'borrowing', 'more', 'money', 'for', 'his', 'flight', 'home', '.', 'The', 'Thai', 'government', 'has', 'promised', 'to', 'reimburse', 'that', 'cost', ',', 'but', 'his', 'mother', \"'s\", 'debt', 'is', 'still', 'there', ',', 'and', 'he', 'is', 'thinking', 'about', 'going', 'back', ',', 'once', 'the', 'fighting', 'stops', '.', '\"I', 'earned', 'a', 'lot', 'in', 'Israel', ',', 'and', 'my', 'employer', 'was', 'good', 'to', 'me', '.', 'Working', 'here', 'wo', \"n't\", 'get', 'me', 'anywhere', '.', 'It', \"'s\", 'enough', 'for', 'food', ',', 'but', 'that', \"'s\", 'all', '.', 'I', 'want', 'a', 'house', 'and', 'a', 'car', '.', 'I', 'have', 'none', 'of', 'that', 'yet', '.', '\"Follow', 'live', ':', 'Latest', 'updatesExplained', ':', 'What', 'is', 'happening', 'in', 'Israel', 'and', 'Gaza', ',', 'and', 'why', 'now?History', 'behind', 'the', 'story', ':', 'The', 'Israel', '-', 'Palestinian', 'conflictHostages', ':', 'Who', 'are', 'the', 'hostages', 'taken', 'by', 'Hamas', 'from', 'Israel?Gaza', ':', 'Dead', 'and', 'wounded', 'strain', 'Gaza', 'hospitals', 'as', 'air', 'strikes', 'intensify']\n"
     ]
    }
   ],
   "source": [
    "tokens = [token.text for token in doc]\n",
    "print(tokens)"
   ]
  },
  {
   "cell_type": "code",
   "execution_count": 32,
   "metadata": {},
   "outputs": [
    {
     "data": {
      "text/plain": [
       "'!\"#$%&\\'()*+,-./:;<=>?@[\\\\]^_`{|}~\\n\\n'"
      ]
     },
     "execution_count": 32,
     "metadata": {},
     "output_type": "execute_result"
    }
   ],
   "source": [
    "punctuation = punctuation + '\\n'+'\\n'\n",
    "punctuation"
   ]
  },
  {
   "cell_type": "markdown",
   "metadata": {},
   "source": [
    "# Text cleaning"
   ]
  },
  {
   "cell_type": "markdown",
   "metadata": {},
   "source": [
    "# Creating the frequency table\n",
    "\n",
    "Word tokenize the entire text. We have to create the dictionary with key as words and value as number of times word is repeated."
   ]
  },
  {
   "cell_type": "code",
   "execution_count": 33,
   "metadata": {},
   "outputs": [],
   "source": [
    "word_frequencies = {}\n",
    "for word in doc:\n",
    "    if word.text.lower() not in stopword:\n",
    "        if word.text.lower() not in punctuation:\n",
    "            if word.text not in word_frequencies.keys():\n",
    "                word_frequencies[word.text] = 1\n",
    "            else:\n",
    "                word_frequencies[word.text] += 1"
   ]
  },
  {
   "cell_type": "code",
   "execution_count": 34,
   "metadata": {},
   "outputs": [
    {
     "name": "stdout",
     "output_type": "stream",
     "text": [
      "{'village': 2, 'lying': 1, 'close': 1, 'Mekong': 1, 'River': 1, 'Weerapon': 1, 'Golf': 7, 'Lapchan': 1, 'sits': 1, 'centre': 1, 'group': 1, 'Thai': 7, 'elders': 1, 'tie': 1, 'white': 1, 'threads': 1, 'wrists': 1, 'chant': 1, 'literally': 1, 'calling': 1, 'kwan': 1, 'spirit': 1, 'body': 1, 'narrow': 1, 'escape': 1, 'Hamas': 8, 'attack': 6, 'Israel': 15, '7': 2, 'October': 3, '34': 1, 'year': 6, 'old': 3, '25,000': 1, 'Thais': 4, 'working': 5, 'farms': 1, 'orchards': 1, 'militants': 2, 'stormed': 1, 'Gaza': 5, '30': 1, '200': 1, 'foreign': 2, 'nationals': 1, 'killed': 2, 'government': 5, 'helping': 1, 'thousands': 1, 'return': 1, 'home': 2, 'Thailand': 4, 'provides': 2, 'farm': 3, 'labour': 2, 'warnings': 1, 'dire': 1, 'consequences': 1, 'country': 2, 'agricultural': 1, 'economy': 1, 'large': 1, 'numbers': 1, 'choose': 1, 'stay': 1, 'away': 4, 'workers': 5, 'borrow': 2, 'money': 3, 'returning': 1, 'jobless': 1, 'debt': 2, ' ': 2, 'like': 1, 'want': 3, 'morning': 2, 'co': 1, 'saw': 1, 'rockets': 2, 'fired': 1, 'intercepted': 1, 'Iron': 1, 'Dome': 1, 'defence': 1, 'system': 1, 'says': 6, 'unduly': 1, 'worried': 1, 'orange': 1, 'orchard': 2, 'Yesha': 1, '5': 1, 'km': 1, 'miles': 1, 'border': 1, 'nearly': 1, 'experienced': 1, 'flying': 1, 'overhead': 1, 'heard': 1, 'gunfire': 1, 'realised': 1, 'hid': 1, 'day': 2, 'evening': 1, 'attackers': 2, 'returned': 1, 'throwing': 1, 'grenades': 1, 'setting': 1, 'rooms': 1, 'hiding': 1, 'alight': 1, '11': 1, 'run': 1, 'jumped': 1, 'wall': 1, 'shot': 1, 'Bang': 1, 'bang': 3, 'wearing': 1, 'pair': 1, 'red': 1, 'boxer': 1, 'shorts': 1, 'ran': 1, 'middle': 1, 'crouched': 1, 'turning': 1, 'phones': 1, 'light': 1, 'shocked': 1, 'kept': 1, 'quiet': 2, 'night': 1, 'hear': 1, 'falling': 1, 'leaves': 1, 'international': 1, 'victims': 1, 'assault': 2, 'IsraelWhat': 1, 'happening': 2, 'now?How': 1, 'staged': 1, 'lightning': 1, 'thought': 1, 'possibleGolf': 1, 'brought': 1, 'organised': 1, 'evacuation': 1, 'flight': 2, '13': 1, 'decided': 2, 'matter': 1, 'offered': 1, 'Death': 1, 'seconds': 1, '12': 1, 'face': 1, '19': 1, 'believed': 2, 'abducted': 2, 'missing': 1, 'north': 3, 'Narissara': 3, 'Chanthasang': 1, 'news': 1, 'husband': 1, 'Nattapong': 3, 'phoned': 1, 'tell': 1, 'shooting': 1, 'running': 1, 'left': 1, 'son': 1, 'June': 1, 'work': 3, 'avocado': 1, 'pomegranate': 1, 'Nir': 2, 'Oz': 2, 'kibbutz': 1, 'far': 1, 'communities': 1, 'worst': 1, 'affected': 1, 'lived': 1, 'kidnapped': 1, 'including': 2, 'children': 1, 'hope': 1, 'list': 1, 'hostages': 2, 'People': 2, 'moved': 1, 'eastern': 1, 'search': 1, 'mainly': 1, 'rural': 1, 'region': 2, 'poorest': 1, 'rice': 3, 'farming': 1, 'bare': 1, 'subsistence': 1, 'living': 1, 'paid': 1, 'jobs': 1, 'scarce': 1, '80': 1, 'east': 1, 'started': 1, 'going': 2, '1980s': 1, 'arrangement': 1, 'formalised': 1, 'agreement': 1, 'governments': 1, '2011': 1, 'controversy': 1, 'Human': 1, 'rights': 1, 'groups': 1, 'past': 1, 'complained': 1, 'overworked': 1, 'unsafe': 1, 'conditions': 1, 'told': 1, 'BBC': 1, 'pay': 2, 'significantly': 1, 'official': 1, 'fees': 1, '70,000': 1, 'baht': 3, '2,100': 1, '120,000': 1, 'extra': 1, 'costs': 1, 'unofficial': 1, 'payments': 1, 'earn': 1, 'seven': 1, 'times': 1, 'praised': 1, 'Israeli': 1, 'employers': 1, 'looking': 1, 'paying': 1, 'time': 1, 'Partly': 1, 'improving': 1, 'social': 1, 'status': 1, 'Poonnatree': 1, 'Jiaviriyaboonya': 1, 'anthropologist': 1, 'Nakhon': 1, 'Phanom': 1, 'University': 1, 'came': 1, 'overseas': 2, 'respect': 1, 'cosmopolitan': 1, 'educated': 1, 'reality': 1, 'poor': 2, 'migrant': 1, 'farmers': 1, 'neglected': 1, 'need': 1, 'shake': 1, 'policies': 1, 'developing': 1, 'people': 1, 'leave': 1, 'families': 1, '\"The': 1, 'debts': 1, 'incurred': 1, 'worry': 1, 'come': 1, 'early': 1, 'land': 2, 'house': 2, 'normally': 1, 'years': 1, 'owe': 1, 'younger': 1, 'sister': 1, 'took': 1, 'loan': 1, 'mother': 3, 'mortgaged': 2, 'fields': 1, 'raise': 1, '200,000': 1, 'needed': 1, 'send': 1, 'weighing': 1, 'mind': 1, 'Anusorn': 1, 'Kamang': 1, '25': 1, 'spent': 1, 'harrowing': 1, 'days': 1, 'constant': 1, 'rocket': 1, 'organic': 1, 'vegetable': 1, 'borrowing': 1, 'promised': 1, 'reimburse': 1, 'cost': 1, 'thinking': 1, 'fighting': 1, 'stops': 1, '\"I': 1, 'earned': 1, 'lot': 1, 'employer': 1, 'good': 1, 'Working': 1, 'wo': 1, 'food': 1, 'car': 1, '\"Follow': 1, 'live': 1, 'Latest': 1, 'updatesExplained': 1, 'now?History': 1, 'story': 1, 'Palestinian': 1, 'conflictHostages': 1, 'taken': 1, 'Israel?Gaza': 1, 'Dead': 1, 'wounded': 1, 'strain': 1, 'hospitals': 1, 'air': 1, 'strikes': 1, 'intensify': 1}\n"
     ]
    }
   ],
   "source": [
    "print(word_frequencies)"
   ]
  },
  {
   "cell_type": "markdown",
   "metadata": {},
   "source": [
    "Then divide the number of occurrences of all the words by the frequency of the most occurring word, as shown below:"
   ]
  },
  {
   "cell_type": "code",
   "execution_count": 35,
   "metadata": {},
   "outputs": [
    {
     "data": {
      "text/plain": [
       "15"
      ]
     },
     "execution_count": 35,
     "metadata": {},
     "output_type": "execute_result"
    }
   ],
   "source": [
    "max_frequency = max(word_frequencies.values())\n",
    "max_frequency"
   ]
  },
  {
   "cell_type": "code",
   "execution_count": 36,
   "metadata": {},
   "outputs": [
    {
     "data": {
      "text/plain": [
       "{'village': 0.13333333333333333,\n",
       " 'lying': 0.06666666666666667,\n",
       " 'close': 0.06666666666666667,\n",
       " 'Mekong': 0.06666666666666667,\n",
       " 'River': 0.06666666666666667,\n",
       " 'Weerapon': 0.06666666666666667,\n",
       " 'Golf': 0.4666666666666667,\n",
       " 'Lapchan': 0.06666666666666667,\n",
       " 'sits': 0.06666666666666667,\n",
       " 'centre': 0.06666666666666667,\n",
       " 'group': 0.06666666666666667,\n",
       " 'Thai': 0.4666666666666667,\n",
       " 'elders': 0.06666666666666667,\n",
       " 'tie': 0.06666666666666667,\n",
       " 'white': 0.06666666666666667,\n",
       " 'threads': 0.06666666666666667,\n",
       " 'wrists': 0.06666666666666667,\n",
       " 'chant': 0.06666666666666667,\n",
       " 'literally': 0.06666666666666667,\n",
       " 'calling': 0.06666666666666667,\n",
       " 'kwan': 0.06666666666666667,\n",
       " 'spirit': 0.06666666666666667,\n",
       " 'body': 0.06666666666666667,\n",
       " 'narrow': 0.06666666666666667,\n",
       " 'escape': 0.06666666666666667,\n",
       " 'Hamas': 0.5333333333333333,\n",
       " 'attack': 0.4,\n",
       " 'Israel': 1.0,\n",
       " '7': 0.13333333333333333,\n",
       " 'October': 0.2,\n",
       " '34': 0.06666666666666667,\n",
       " 'year': 0.4,\n",
       " 'old': 0.2,\n",
       " '25,000': 0.06666666666666667,\n",
       " 'Thais': 0.26666666666666666,\n",
       " 'working': 0.3333333333333333,\n",
       " 'farms': 0.06666666666666667,\n",
       " 'orchards': 0.06666666666666667,\n",
       " 'militants': 0.13333333333333333,\n",
       " 'stormed': 0.06666666666666667,\n",
       " 'Gaza': 0.3333333333333333,\n",
       " '30': 0.06666666666666667,\n",
       " '200': 0.06666666666666667,\n",
       " 'foreign': 0.13333333333333333,\n",
       " 'nationals': 0.06666666666666667,\n",
       " 'killed': 0.13333333333333333,\n",
       " 'government': 0.3333333333333333,\n",
       " 'helping': 0.06666666666666667,\n",
       " 'thousands': 0.06666666666666667,\n",
       " 'return': 0.06666666666666667,\n",
       " 'home': 0.13333333333333333,\n",
       " 'Thailand': 0.26666666666666666,\n",
       " 'provides': 0.13333333333333333,\n",
       " 'farm': 0.2,\n",
       " 'labour': 0.13333333333333333,\n",
       " 'warnings': 0.06666666666666667,\n",
       " 'dire': 0.06666666666666667,\n",
       " 'consequences': 0.06666666666666667,\n",
       " 'country': 0.13333333333333333,\n",
       " 'agricultural': 0.06666666666666667,\n",
       " 'economy': 0.06666666666666667,\n",
       " 'large': 0.06666666666666667,\n",
       " 'numbers': 0.06666666666666667,\n",
       " 'choose': 0.06666666666666667,\n",
       " 'stay': 0.06666666666666667,\n",
       " 'away': 0.26666666666666666,\n",
       " 'workers': 0.3333333333333333,\n",
       " 'borrow': 0.13333333333333333,\n",
       " 'money': 0.2,\n",
       " 'returning': 0.06666666666666667,\n",
       " 'jobless': 0.06666666666666667,\n",
       " 'debt': 0.13333333333333333,\n",
       " ' ': 0.13333333333333333,\n",
       " 'like': 0.06666666666666667,\n",
       " 'want': 0.2,\n",
       " 'morning': 0.13333333333333333,\n",
       " 'co': 0.06666666666666667,\n",
       " 'saw': 0.06666666666666667,\n",
       " 'rockets': 0.13333333333333333,\n",
       " 'fired': 0.06666666666666667,\n",
       " 'intercepted': 0.06666666666666667,\n",
       " 'Iron': 0.06666666666666667,\n",
       " 'Dome': 0.06666666666666667,\n",
       " 'defence': 0.06666666666666667,\n",
       " 'system': 0.06666666666666667,\n",
       " 'says': 0.4,\n",
       " 'unduly': 0.06666666666666667,\n",
       " 'worried': 0.06666666666666667,\n",
       " 'orange': 0.06666666666666667,\n",
       " 'orchard': 0.13333333333333333,\n",
       " 'Yesha': 0.06666666666666667,\n",
       " '5': 0.06666666666666667,\n",
       " 'km': 0.06666666666666667,\n",
       " 'miles': 0.06666666666666667,\n",
       " 'border': 0.06666666666666667,\n",
       " 'nearly': 0.06666666666666667,\n",
       " 'experienced': 0.06666666666666667,\n",
       " 'flying': 0.06666666666666667,\n",
       " 'overhead': 0.06666666666666667,\n",
       " 'heard': 0.06666666666666667,\n",
       " 'gunfire': 0.06666666666666667,\n",
       " 'realised': 0.06666666666666667,\n",
       " 'hid': 0.06666666666666667,\n",
       " 'day': 0.13333333333333333,\n",
       " 'evening': 0.06666666666666667,\n",
       " 'attackers': 0.13333333333333333,\n",
       " 'returned': 0.06666666666666667,\n",
       " 'throwing': 0.06666666666666667,\n",
       " 'grenades': 0.06666666666666667,\n",
       " 'setting': 0.06666666666666667,\n",
       " 'rooms': 0.06666666666666667,\n",
       " 'hiding': 0.06666666666666667,\n",
       " 'alight': 0.06666666666666667,\n",
       " '11': 0.06666666666666667,\n",
       " 'run': 0.06666666666666667,\n",
       " 'jumped': 0.06666666666666667,\n",
       " 'wall': 0.06666666666666667,\n",
       " 'shot': 0.06666666666666667,\n",
       " 'Bang': 0.06666666666666667,\n",
       " 'bang': 0.2,\n",
       " 'wearing': 0.06666666666666667,\n",
       " 'pair': 0.06666666666666667,\n",
       " 'red': 0.06666666666666667,\n",
       " 'boxer': 0.06666666666666667,\n",
       " 'shorts': 0.06666666666666667,\n",
       " 'ran': 0.06666666666666667,\n",
       " 'middle': 0.06666666666666667,\n",
       " 'crouched': 0.06666666666666667,\n",
       " 'turning': 0.06666666666666667,\n",
       " 'phones': 0.06666666666666667,\n",
       " 'light': 0.06666666666666667,\n",
       " 'shocked': 0.06666666666666667,\n",
       " 'kept': 0.06666666666666667,\n",
       " 'quiet': 0.13333333333333333,\n",
       " 'night': 0.06666666666666667,\n",
       " 'hear': 0.06666666666666667,\n",
       " 'falling': 0.06666666666666667,\n",
       " 'leaves': 0.06666666666666667,\n",
       " 'international': 0.06666666666666667,\n",
       " 'victims': 0.06666666666666667,\n",
       " 'assault': 0.13333333333333333,\n",
       " 'IsraelWhat': 0.06666666666666667,\n",
       " 'happening': 0.13333333333333333,\n",
       " 'now?How': 0.06666666666666667,\n",
       " 'staged': 0.06666666666666667,\n",
       " 'lightning': 0.06666666666666667,\n",
       " 'thought': 0.06666666666666667,\n",
       " 'possibleGolf': 0.06666666666666667,\n",
       " 'brought': 0.06666666666666667,\n",
       " 'organised': 0.06666666666666667,\n",
       " 'evacuation': 0.06666666666666667,\n",
       " 'flight': 0.13333333333333333,\n",
       " '13': 0.06666666666666667,\n",
       " 'decided': 0.13333333333333333,\n",
       " 'matter': 0.06666666666666667,\n",
       " 'offered': 0.06666666666666667,\n",
       " 'Death': 0.06666666666666667,\n",
       " 'seconds': 0.06666666666666667,\n",
       " '12': 0.06666666666666667,\n",
       " 'face': 0.06666666666666667,\n",
       " '19': 0.06666666666666667,\n",
       " 'believed': 0.13333333333333333,\n",
       " 'abducted': 0.13333333333333333,\n",
       " 'missing': 0.06666666666666667,\n",
       " 'north': 0.2,\n",
       " 'Narissara': 0.2,\n",
       " 'Chanthasang': 0.06666666666666667,\n",
       " 'news': 0.06666666666666667,\n",
       " 'husband': 0.06666666666666667,\n",
       " 'Nattapong': 0.2,\n",
       " 'phoned': 0.06666666666666667,\n",
       " 'tell': 0.06666666666666667,\n",
       " 'shooting': 0.06666666666666667,\n",
       " 'running': 0.06666666666666667,\n",
       " 'left': 0.06666666666666667,\n",
       " 'son': 0.06666666666666667,\n",
       " 'June': 0.06666666666666667,\n",
       " 'work': 0.2,\n",
       " 'avocado': 0.06666666666666667,\n",
       " 'pomegranate': 0.06666666666666667,\n",
       " 'Nir': 0.13333333333333333,\n",
       " 'Oz': 0.13333333333333333,\n",
       " 'kibbutz': 0.06666666666666667,\n",
       " 'far': 0.06666666666666667,\n",
       " 'communities': 0.06666666666666667,\n",
       " 'worst': 0.06666666666666667,\n",
       " 'affected': 0.06666666666666667,\n",
       " 'lived': 0.06666666666666667,\n",
       " 'kidnapped': 0.06666666666666667,\n",
       " 'including': 0.13333333333333333,\n",
       " 'children': 0.06666666666666667,\n",
       " 'hope': 0.06666666666666667,\n",
       " 'list': 0.06666666666666667,\n",
       " 'hostages': 0.13333333333333333,\n",
       " 'People': 0.13333333333333333,\n",
       " 'moved': 0.06666666666666667,\n",
       " 'eastern': 0.06666666666666667,\n",
       " 'search': 0.06666666666666667,\n",
       " 'mainly': 0.06666666666666667,\n",
       " 'rural': 0.06666666666666667,\n",
       " 'region': 0.13333333333333333,\n",
       " 'poorest': 0.06666666666666667,\n",
       " 'rice': 0.2,\n",
       " 'farming': 0.06666666666666667,\n",
       " 'bare': 0.06666666666666667,\n",
       " 'subsistence': 0.06666666666666667,\n",
       " 'living': 0.06666666666666667,\n",
       " 'paid': 0.06666666666666667,\n",
       " 'jobs': 0.06666666666666667,\n",
       " 'scarce': 0.06666666666666667,\n",
       " '80': 0.06666666666666667,\n",
       " 'east': 0.06666666666666667,\n",
       " 'started': 0.06666666666666667,\n",
       " 'going': 0.13333333333333333,\n",
       " '1980s': 0.06666666666666667,\n",
       " 'arrangement': 0.06666666666666667,\n",
       " 'formalised': 0.06666666666666667,\n",
       " 'agreement': 0.06666666666666667,\n",
       " 'governments': 0.06666666666666667,\n",
       " '2011': 0.06666666666666667,\n",
       " 'controversy': 0.06666666666666667,\n",
       " 'Human': 0.06666666666666667,\n",
       " 'rights': 0.06666666666666667,\n",
       " 'groups': 0.06666666666666667,\n",
       " 'past': 0.06666666666666667,\n",
       " 'complained': 0.06666666666666667,\n",
       " 'overworked': 0.06666666666666667,\n",
       " 'unsafe': 0.06666666666666667,\n",
       " 'conditions': 0.06666666666666667,\n",
       " 'told': 0.06666666666666667,\n",
       " 'BBC': 0.06666666666666667,\n",
       " 'pay': 0.13333333333333333,\n",
       " 'significantly': 0.06666666666666667,\n",
       " 'official': 0.06666666666666667,\n",
       " 'fees': 0.06666666666666667,\n",
       " '70,000': 0.06666666666666667,\n",
       " 'baht': 0.2,\n",
       " '2,100': 0.06666666666666667,\n",
       " '120,000': 0.06666666666666667,\n",
       " 'extra': 0.06666666666666667,\n",
       " 'costs': 0.06666666666666667,\n",
       " 'unofficial': 0.06666666666666667,\n",
       " 'payments': 0.06666666666666667,\n",
       " 'earn': 0.06666666666666667,\n",
       " 'seven': 0.06666666666666667,\n",
       " 'times': 0.06666666666666667,\n",
       " 'praised': 0.06666666666666667,\n",
       " 'Israeli': 0.06666666666666667,\n",
       " 'employers': 0.06666666666666667,\n",
       " 'looking': 0.06666666666666667,\n",
       " 'paying': 0.06666666666666667,\n",
       " 'time': 0.06666666666666667,\n",
       " 'Partly': 0.06666666666666667,\n",
       " 'improving': 0.06666666666666667,\n",
       " 'social': 0.06666666666666667,\n",
       " 'status': 0.06666666666666667,\n",
       " 'Poonnatree': 0.06666666666666667,\n",
       " 'Jiaviriyaboonya': 0.06666666666666667,\n",
       " 'anthropologist': 0.06666666666666667,\n",
       " 'Nakhon': 0.06666666666666667,\n",
       " 'Phanom': 0.06666666666666667,\n",
       " 'University': 0.06666666666666667,\n",
       " 'came': 0.06666666666666667,\n",
       " 'overseas': 0.13333333333333333,\n",
       " 'respect': 0.06666666666666667,\n",
       " 'cosmopolitan': 0.06666666666666667,\n",
       " 'educated': 0.06666666666666667,\n",
       " 'reality': 0.06666666666666667,\n",
       " 'poor': 0.13333333333333333,\n",
       " 'migrant': 0.06666666666666667,\n",
       " 'farmers': 0.06666666666666667,\n",
       " 'neglected': 0.06666666666666667,\n",
       " 'need': 0.06666666666666667,\n",
       " 'shake': 0.06666666666666667,\n",
       " 'policies': 0.06666666666666667,\n",
       " 'developing': 0.06666666666666667,\n",
       " 'people': 0.06666666666666667,\n",
       " 'leave': 0.06666666666666667,\n",
       " 'families': 0.06666666666666667,\n",
       " '\"The': 0.06666666666666667,\n",
       " 'debts': 0.06666666666666667,\n",
       " 'incurred': 0.06666666666666667,\n",
       " 'worry': 0.06666666666666667,\n",
       " 'come': 0.06666666666666667,\n",
       " 'early': 0.06666666666666667,\n",
       " 'land': 0.13333333333333333,\n",
       " 'house': 0.13333333333333333,\n",
       " 'normally': 0.06666666666666667,\n",
       " 'years': 0.06666666666666667,\n",
       " 'owe': 0.06666666666666667,\n",
       " 'younger': 0.06666666666666667,\n",
       " 'sister': 0.06666666666666667,\n",
       " 'took': 0.06666666666666667,\n",
       " 'loan': 0.06666666666666667,\n",
       " 'mother': 0.2,\n",
       " 'mortgaged': 0.13333333333333333,\n",
       " 'fields': 0.06666666666666667,\n",
       " 'raise': 0.06666666666666667,\n",
       " '200,000': 0.06666666666666667,\n",
       " 'needed': 0.06666666666666667,\n",
       " 'send': 0.06666666666666667,\n",
       " 'weighing': 0.06666666666666667,\n",
       " 'mind': 0.06666666666666667,\n",
       " 'Anusorn': 0.06666666666666667,\n",
       " 'Kamang': 0.06666666666666667,\n",
       " '25': 0.06666666666666667,\n",
       " 'spent': 0.06666666666666667,\n",
       " 'harrowing': 0.06666666666666667,\n",
       " 'days': 0.06666666666666667,\n",
       " 'constant': 0.06666666666666667,\n",
       " 'rocket': 0.06666666666666667,\n",
       " 'organic': 0.06666666666666667,\n",
       " 'vegetable': 0.06666666666666667,\n",
       " 'borrowing': 0.06666666666666667,\n",
       " 'promised': 0.06666666666666667,\n",
       " 'reimburse': 0.06666666666666667,\n",
       " 'cost': 0.06666666666666667,\n",
       " 'thinking': 0.06666666666666667,\n",
       " 'fighting': 0.06666666666666667,\n",
       " 'stops': 0.06666666666666667,\n",
       " '\"I': 0.06666666666666667,\n",
       " 'earned': 0.06666666666666667,\n",
       " 'lot': 0.06666666666666667,\n",
       " 'employer': 0.06666666666666667,\n",
       " 'good': 0.06666666666666667,\n",
       " 'Working': 0.06666666666666667,\n",
       " 'wo': 0.06666666666666667,\n",
       " 'food': 0.06666666666666667,\n",
       " 'car': 0.06666666666666667,\n",
       " '\"Follow': 0.06666666666666667,\n",
       " 'live': 0.06666666666666667,\n",
       " 'Latest': 0.06666666666666667,\n",
       " 'updatesExplained': 0.06666666666666667,\n",
       " 'now?History': 0.06666666666666667,\n",
       " 'story': 0.06666666666666667,\n",
       " 'Palestinian': 0.06666666666666667,\n",
       " 'conflictHostages': 0.06666666666666667,\n",
       " 'taken': 0.06666666666666667,\n",
       " 'Israel?Gaza': 0.06666666666666667,\n",
       " 'Dead': 0.06666666666666667,\n",
       " 'wounded': 0.06666666666666667,\n",
       " 'strain': 0.06666666666666667,\n",
       " 'hospitals': 0.06666666666666667,\n",
       " 'air': 0.06666666666666667,\n",
       " 'strikes': 0.06666666666666667,\n",
       " 'intensify': 0.06666666666666667}"
      ]
     },
     "execution_count": 36,
     "metadata": {},
     "output_type": "execute_result"
    }
   ],
   "source": [
    "for word in word_frequencies.keys():\n",
    "    word_frequencies[word] = word_frequencies[word]/max_frequency\n",
    "\n",
    "word_frequencies"
   ]
  },
  {
   "cell_type": "markdown",
   "metadata": {},
   "source": [
    "# Tokenizing the article into sentences\n",
    "\n",
    "To split the article_content into a set of sentences, we’ll use the built-in method from the nltk library."
   ]
  },
  {
   "cell_type": "code",
   "execution_count": 37,
   "metadata": {},
   "outputs": [
    {
     "data": {
      "text/plain": [
       "[In a village lying close to the Mekong River, Weerapon \"Golf\" Lapchan sits in the centre of a group of Thai elders as they tie white threads around his wrists and chant.,\n",
       " They are literally calling his \"kwan\" or spirit back to his body, after his narrow escape during the Hamas attack on Israel on 7 October.,\n",
       " The 34-year-old is one of more than 25,000 Thais who were working on farms and orchards in Israel when the Hamas militants stormed in from Gaza.,\n",
       " At least 30 Thais were among the 200 or so foreign nationals who were killed in the attack.,\n",
       " Now the Thai government is helping others, thousands of them, to return home.,\n",
       " Thailand provides almost all the foreign farm labour in Israel.,\n",
       " And there have been warnings of dire consequences for the country's agricultural economy if large numbers of Thais choose to stay away after the Hamas attack.,\n",
       " Many of the Thai workers have to borrow money to go to Israel and now they are returning, jobless and in debt.  ,\n",
       " Yet some like Golf never want to go back.,\n",
       " On the morning of 7 October, when Golf and his co-workers saw rockets being fired, and then intercepted by Israel's Iron Dome defence system, he says they were not unduly worried.,\n",
       " Golf had been working at an orange orchard in Yesha, just 5km (three miles) from the border with Gaza, for nearly a year.,\n",
       " He had experienced rockets flying overhead before.,\n",
       " When they heard gunfire, however, they realised it was more serious, and hid most of that day.,\n",
       " In the evening, says Golf, the Hamas attackers returned, throwing grenades and setting the rooms where they were hiding alight.,\n",
       " He and 11 others made a run for it.,\n",
       " \"We jumped over the wall, and they shot at us from behind.,\n",
       " Bang, bang, bang, bang.\",\n",
       " He says he was wearing only a pair of red boxer shorts when he ran to the middle of the orchard.,\n",
       " He and the others crouched down, turning off their phones so the attackers couldn't see the light.,\n",
       " \"We were all shocked and kept quiet all night - so quiet that we could hear the falling leaves,\" he says.,\n",
       " The international victims of Hamas' assault on IsraelWhat is happening in Israel and Gaza, and why now?How Hamas staged lightning assault no-one thought possibleGolf was brought back to Thailand on a government-organised evacuation flight on 13 October.,\n",
       " He has decided he will not go back, no matter what he might be offered.,\n",
       " Death was just seconds away that day, he says.,\n",
       " All 12 of them have decided that they never want to face that again.,\n",
       " At least 19 Thai workers are believed to have been abducted by Hamas, with many more still missing.  ,\n",
       " In another village to the north, Narissara Chanthasang has had no news of her husband Nattapong since the morning of the attack.,\n",
       " He had phoned her to tell her there was shooting, and that he was running away.,\n",
       " He left her and his six-year-old son in June last year to work on an avocado and pomegranate farm in the Nir Oz kibbutz, not far from where Golf was working.,\n",
       " Nir Oz was one of the communities worst affected by the attack.,\n",
       " One in four of those who lived there are believed to have been killed or kidnapped by the militants, including many children.,\n",
       " Narissara's only hope is that Nattapong may have been abducted, although he is not on the government's list of Thai hostages.,\n",
       " People have always moved away from north-eastern Thailand in search of work.,\n",
       " The mainly rural region is one of the poorest in the country, where rice farming provides only a bare subsistence living and well-paid jobs are scarce.,\n",
       " More than 80% of Thai workers in Israel are from the north-east.,\n",
       " They started going to Israel in the 1980s and the arrangement was formalised in an agreement between the two governments in 2011.,\n",
       " It has not been without controversy.,\n",
       " Human rights and labour groups have in the past complained about the Thais being overworked in unsafe conditions.,\n",
       " People told the BBC they have to pay significantly more than the official fees of around 70,000 baht ($2,100) to get to Israel - often up to 120,000 baht including extra costs and unofficial payments.,\n",
       " But they also say they can earn seven to eight times more than in Thailand.,\n",
       " Some praised their Israeli employers for looking after them and paying them on time.,\n",
       " \"Partly it's about improving their social status,\" says Poonnatree Jiaviriyaboonya, an anthropologist at Nakhon Phanom University.,\n",
       " \"Those who came back from working overseas get more respect.,\n",
       " They seem more cosmopolitan, more educated.,\n",
       " But in reality, [they] are still poor migrant workers, poor rice farmers who have been neglected by the government.,\n",
       " We need to shake up our policies for developing this region so people do not have to leave their families and go overseas.,\n",
       " \"The debts they have incurred are a worry for those who have come back early.,\n",
       " They borrow money against their land or their house - and they normally work in Israel for at least five years, so they can pay off what they owe.,\n",
       " Golf's younger sister took out a loan for him to go last year.,\n",
       " Narissara's mother mortgaged her rice-fields to raise the 200,000 baht they needed to send Nattapong to Israel.,\n",
       " This is weighing on the mind of Anusorn Kamang, a 25-year-old whose mother also mortgaged her land for him to go to Israel.,\n",
       " He spent a harrowing few days under constant rocket attack at the organic vegetable farm where he was working, before borrowing more money for his flight home.,\n",
       " The Thai government has promised to reimburse that cost, but his mother's debt is still there, and he is thinking about going back, once the fighting stops.,\n",
       " \"I earned a lot in Israel, and my employer was good to me.,\n",
       " Working here won't get me anywhere.,\n",
       " It's enough for food, but that's all.,\n",
       " I want a house and a car.,\n",
       " I have none of that yet.,\n",
       " \"Follow live: Latest updatesExplained: What is happening in Israel and Gaza, and why now?History behind the story: The Israel-Palestinian conflictHostages: Who are the hostages taken by Hamas from Israel?Gaza:,\n",
       " Dead and wounded strain Gaza hospitals as air strikes intensify]"
      ]
     },
     "execution_count": 37,
     "metadata": {},
     "output_type": "execute_result"
    }
   ],
   "source": [
    "sentences_token = [sent for sent in doc.sents]\n",
    "sentences_token"
   ]
  },
  {
   "cell_type": "markdown",
   "metadata": {},
   "source": [
    "4) Finding the weighted frequencies of the sentences\n",
    "\n",
    "To evaluate the score for every sentence in the text, we’ll be analysing the frequency of occurrence of each term. In this case, we’ll be scoring each sentence by its words; that is, adding the frequency of each important word found in the sentence."
   ]
  },
  {
   "cell_type": "code",
   "execution_count": 38,
   "metadata": {},
   "outputs": [],
   "source": [
    "sentences_scores = {}\n",
    "for sent in sentences_token:\n",
    "    for word in sent:\n",
    "        if word.text.lower() in word_frequencies.keys():\n",
    "            if sent not in sentences_scores.keys():\n",
    "                sentences_scores[sent] = word_frequencies[word.text.lower()]\n",
    "            else:\n",
    "                sentences_scores[sent] += word_frequencies[word.text.lower()]"
   ]
  },
  {
   "cell_type": "code",
   "execution_count": 39,
   "metadata": {},
   "outputs": [
    {
     "data": {
      "text/plain": [
       "{In a village lying close to the Mekong River, Weerapon \"Golf\" Lapchan sits in the centre of a group of Thai elders as they tie white threads around his wrists and chant.: 0.8666666666666666,\n",
       " They are literally calling his \"kwan\" or spirit back to his body, after his narrow escape during the Hamas attack on Israel on 7 October.: 1.0,\n",
       " The 34-year-old is one of more than 25,000 Thais who were working on farms and orchards in Israel when the Hamas militants stormed in from Gaza.: 1.4,\n",
       " At least 30 Thais were among the 200 or so foreign nationals who were killed in the attack.: 0.8666666666666667,\n",
       " Now the Thai government is helping others, thousands of them, to return home.: 0.6666666666666666,\n",
       " Thailand provides almost all the foreign farm labour in Israel.: 0.6,\n",
       " And there have been warnings of dire consequences for the country's agricultural economy if large numbers of Thais choose to stay away after the Hamas attack.: 1.4,\n",
       " Many of the Thai workers have to borrow money to go to Israel and now they are returning, jobless and in debt.  : 1.0666666666666667,\n",
       " Yet some like Golf never want to go back.: 0.26666666666666666,\n",
       " On the morning of 7 October, when Golf and his co-workers saw rockets being fired, and then intercepted by Israel's Iron Dome defence system, he says they were not unduly worried.: 1.6666666666666665,\n",
       " Golf had been working at an orange orchard in Yesha, just 5km (three miles) from the border with Gaza, for nearly a year.: 1.2666666666666666,\n",
       " He had experienced rockets flying overhead before.: 0.3333333333333333,\n",
       " When they heard gunfire, however, they realised it was more serious, and hid most of that day.: 0.4,\n",
       " In the evening, says Golf, the Hamas attackers returned, throwing grenades and setting the rooms where they were hiding alight.: 1.0666666666666667,\n",
       " He and 11 others made a run for it.: 0.13333333333333333,\n",
       " \"We jumped over the wall, and they shot at us from behind.: 0.2,\n",
       " Bang, bang, bang, bang.\": 0.8,\n",
       " He says he was wearing only a pair of red boxer shorts when he ran to the middle of the orchard.: 0.9999999999999999,\n",
       " He and the others crouched down, turning off their phones so the attackers couldn't see the light.: 0.4,\n",
       " \"We were all shocked and kept quiet all night - so quiet that we could hear the falling leaves,\" he says.: 1.0666666666666667,\n",
       " The international victims of Hamas' assault on IsraelWhat is happening in Israel and Gaza, and why now?How Hamas staged lightning assault no-one thought possibleGolf was brought back to Thailand on a government-organised evacuation flight on 13 October.: 1.4666666666666666,\n",
       " He has decided he will not go back, no matter what he might be offered.: 0.26666666666666666,\n",
       " Death was just seconds away that day, he says.: 0.8666666666666667,\n",
       " All 12 of them have decided that they never want to face that again.: 0.4666666666666667,\n",
       " At least 19 Thai workers are believed to have been abducted by Hamas, with many more still missing.  : 0.8666666666666666,\n",
       " In another village to the north, Narissara Chanthasang has had no news of her husband Nattapong since the morning of the attack.: 1.0,\n",
       " He had phoned her to tell her there was shooting, and that he was running away.: 0.5333333333333333,\n",
       " He left her and his six-year-old son in June last year to work on an avocado and pomegranate farm in the Nir Oz kibbutz, not far from where Golf was working.: 2.1333333333333333,\n",
       " Nir Oz was one of the communities worst affected by the attack.: 0.6000000000000001,\n",
       " One in four of those who lived there are believed to have been killed or kidnapped by the militants, including many children.: 0.7333333333333333,\n",
       " Narissara's only hope is that Nattapong may have been abducted, although he is not on the government's list of Thai hostages.: 0.7333333333333333,\n",
       " People have always moved away from north-eastern Thailand in search of work.: 0.9333333333333333,\n",
       " The mainly rural region is one of the poorest in the country, where rice farming provides only a bare subsistence living and well-paid jobs are scarce.: 1.2666666666666666,\n",
       " More than 80% of Thai workers in Israel are from the north-east.: 0.6666666666666666,\n",
       " They started going to Israel in the 1980s and the arrangement was formalised in an agreement between the two governments in 2011.: 0.6,\n",
       " It has not been without controversy.: 0.06666666666666667,\n",
       " Human rights and labour groups have in the past complained about the Thais being overworked in unsafe conditions.: 0.6,\n",
       " People told the BBC they have to pay significantly more than the official fees of around 70,000 baht ($2,100) to get to Israel - often up to 120,000 baht including extra costs and unofficial payments.: 1.4666666666666666,\n",
       " But they also say they can earn seven to eight times more than in Thailand.: 0.2,\n",
       " Some praised their Israeli employers for looking after them and paying them on time.: 0.3333333333333333,\n",
       " \"Partly it's about improving their social status,\" says Poonnatree Jiaviriyaboonya, an anthropologist at Nakhon Phanom University.: 0.6666666666666667,\n",
       " \"Those who came back from working overseas get more respect.: 0.6,\n",
       " They seem more cosmopolitan, more educated.: 0.13333333333333333,\n",
       " But in reality, [they] are still poor migrant workers, poor rice farmers who have been neglected by the government.: 1.4,\n",
       " We need to shake up our policies for developing this region so people do not have to leave their families and go overseas.: 0.7333333333333333,\n",
       " \"The debts they have incurred are a worry for those who have come back early.: 0.3333333333333333,\n",
       " They borrow money against their land or their house - and they normally work in Israel for at least five years, so they can pay off what they owe.: 1.1333333333333333,\n",
       " Golf's younger sister took out a loan for him to go last year.: 0.6666666666666667,\n",
       " Narissara's mother mortgaged her rice-fields to raise the 200,000 baht they needed to send Nattapong to Israel.: 1.0666666666666667,\n",
       " This is weighing on the mind of Anusorn Kamang, a 25-year-old whose mother also mortgaged her land for him to go to Israel.: 1.2666666666666666,\n",
       " He spent a harrowing few days under constant rocket attack at the organic vegetable farm where he was working, before borrowing more money for his flight home.: 1.9333333333333331,\n",
       " The Thai government has promised to reimburse that cost, but his mother's debt is still there, and he is thinking about going back, once the fighting stops.: 1.2,\n",
       " \"I earned a lot in Israel, and my employer was good to me.: 0.26666666666666666,\n",
       " Working here won't get me anywhere.: 0.39999999999999997,\n",
       " It's enough for food, but that's all.: 0.06666666666666667,\n",
       " I want a house and a car.: 0.4,\n",
       " \"Follow live: Latest updatesExplained: What is happening in Israel and Gaza, and why now?History behind the story: The Israel-Palestinian conflictHostages: Who are the hostages taken by Hamas from Israel?Gaza:: 0.4666666666666667,\n",
       " Dead and wounded strain Gaza hospitals as air strikes intensify: 0.39999999999999997}"
      ]
     },
     "execution_count": 39,
     "metadata": {},
     "output_type": "execute_result"
    }
   ],
   "source": [
    "sentences_scores"
   ]
  },
  {
   "cell_type": "markdown",
   "metadata": {},
   "source": [
    "5) Creation of summary\n",
    "\n",
    "Using nalargest library get the top 30% weighted sentences. And later on join it to get the final summarized text."
   ]
  },
  {
   "cell_type": "code",
   "execution_count": 40,
   "metadata": {},
   "outputs": [],
   "source": [
    "from heapq import nlargest"
   ]
  },
  {
   "cell_type": "code",
   "execution_count": 41,
   "metadata": {},
   "outputs": [
    {
     "data": {
      "text/plain": [
       "17"
      ]
     },
     "execution_count": 41,
     "metadata": {},
     "output_type": "execute_result"
    }
   ],
   "source": [
    "select_lenth = int(len(sentences_token)*0.3)\n",
    "select_lenth"
   ]
  },
  {
   "cell_type": "code",
   "execution_count": 42,
   "metadata": {},
   "outputs": [
    {
     "data": {
      "text/plain": [
       "[He left her and his six-year-old son in June last year to work on an avocado and pomegranate farm in the Nir Oz kibbutz, not far from where Golf was working.,\n",
       " He spent a harrowing few days under constant rocket attack at the organic vegetable farm where he was working, before borrowing more money for his flight home.,\n",
       " On the morning of 7 October, when Golf and his co-workers saw rockets being fired, and then intercepted by Israel's Iron Dome defence system, he says they were not unduly worried.,\n",
       " The international victims of Hamas' assault on IsraelWhat is happening in Israel and Gaza, and why now?How Hamas staged lightning assault no-one thought possibleGolf was brought back to Thailand on a government-organised evacuation flight on 13 October.,\n",
       " People told the BBC they have to pay significantly more than the official fees of around 70,000 baht ($2,100) to get to Israel - often up to 120,000 baht including extra costs and unofficial payments.,\n",
       " The 34-year-old is one of more than 25,000 Thais who were working on farms and orchards in Israel when the Hamas militants stormed in from Gaza.,\n",
       " And there have been warnings of dire consequences for the country's agricultural economy if large numbers of Thais choose to stay away after the Hamas attack.,\n",
       " But in reality, [they] are still poor migrant workers, poor rice farmers who have been neglected by the government.,\n",
       " Golf had been working at an orange orchard in Yesha, just 5km (three miles) from the border with Gaza, for nearly a year.,\n",
       " The mainly rural region is one of the poorest in the country, where rice farming provides only a bare subsistence living and well-paid jobs are scarce.,\n",
       " This is weighing on the mind of Anusorn Kamang, a 25-year-old whose mother also mortgaged her land for him to go to Israel.,\n",
       " The Thai government has promised to reimburse that cost, but his mother's debt is still there, and he is thinking about going back, once the fighting stops.,\n",
       " They borrow money against their land or their house - and they normally work in Israel for at least five years, so they can pay off what they owe.,\n",
       " Many of the Thai workers have to borrow money to go to Israel and now they are returning, jobless and in debt.  ,\n",
       " In the evening, says Golf, the Hamas attackers returned, throwing grenades and setting the rooms where they were hiding alight.,\n",
       " \"We were all shocked and kept quiet all night - so quiet that we could hear the falling leaves,\" he says.,\n",
       " Narissara's mother mortgaged her rice-fields to raise the 200,000 baht they needed to send Nattapong to Israel.]"
      ]
     },
     "execution_count": 42,
     "metadata": {},
     "output_type": "execute_result"
    }
   ],
   "source": [
    "summary = nlargest(select_lenth, sentences_scores, key = sentences_scores.get)\n",
    "summary"
   ]
  },
  {
   "cell_type": "code",
   "execution_count": 43,
   "metadata": {},
   "outputs": [
    {
     "data": {
      "text/plain": [
       "['He left her and his six-year-old son in June last year to work on an avocado and pomegranate farm in the Nir Oz kibbutz, not far from where Golf was working.',\n",
       " 'He spent a harrowing few days under constant rocket attack at the organic vegetable farm where he was working, before borrowing more money for his flight home.',\n",
       " \"On the morning of 7 October, when Golf and his co-workers saw rockets being fired, and then intercepted by Israel's Iron Dome defence system, he says they were not unduly worried.\",\n",
       " \"The international victims of Hamas' assault on IsraelWhat is happening in Israel and Gaza, and why now?How Hamas staged lightning assault no-one thought possibleGolf was brought back to Thailand on a government-organised evacuation flight on 13 October.\",\n",
       " 'People told the BBC they have to pay significantly more than the official fees of around 70,000 baht ($2,100) to get to Israel - often up to 120,000 baht including extra costs and unofficial payments.',\n",
       " 'The 34-year-old is one of more than 25,000 Thais who were working on farms and orchards in Israel when the Hamas militants stormed in from Gaza.',\n",
       " \"And there have been warnings of dire consequences for the country's agricultural economy if large numbers of Thais choose to stay away after the Hamas attack.\",\n",
       " 'But in reality, [they] are still poor migrant workers, poor rice farmers who have been neglected by the government.',\n",
       " 'Golf had been working at an orange orchard in Yesha, just 5km (three miles) from the border with Gaza, for nearly a year.',\n",
       " 'The mainly rural region is one of the poorest in the country, where rice farming provides only a bare subsistence living and well-paid jobs are scarce.',\n",
       " 'This is weighing on the mind of Anusorn Kamang, a 25-year-old whose mother also mortgaged her land for him to go to Israel.',\n",
       " \"The Thai government has promised to reimburse that cost, but his mother's debt is still there, and he is thinking about going back, once the fighting stops.\",\n",
       " 'They borrow money against their land or their house - and they normally work in Israel for at least five years, so they can pay off what they owe.',\n",
       " 'Many of the Thai workers have to borrow money to go to Israel and now they are returning, jobless and in debt.  ',\n",
       " 'In the evening, says Golf, the Hamas attackers returned, throwing grenades and setting the rooms where they were hiding alight.',\n",
       " '\"We were all shocked and kept quiet all night - so quiet that we could hear the falling leaves,\" he says.',\n",
       " \"Narissara's mother mortgaged her rice-fields to raise the 200,000 baht they needed to send Nattapong to Israel.\"]"
      ]
     },
     "execution_count": 43,
     "metadata": {},
     "output_type": "execute_result"
    }
   ],
   "source": [
    "final_summary = [word.text for word in summary]\n",
    "final_summary"
   ]
  },
  {
   "cell_type": "code",
   "execution_count": 44,
   "metadata": {},
   "outputs": [
    {
     "data": {
      "text/plain": [
       "'He left her and his six-year-old son in June last year to work on an avocado and pomegranate farm in the Nir Oz kibbutz, not far from where Golf was working.He spent a harrowing few days under constant rocket attack at the organic vegetable farm where he was working, before borrowing more money for his flight home.On the morning of 7 October, when Golf and his co-workers saw rockets being fired, and then intercepted by Israel\\'s Iron Dome defence system, he says they were not unduly worried.The international victims of Hamas\\' assault on IsraelWhat is happening in Israel and Gaza, and why now?How Hamas staged lightning assault no-one thought possibleGolf was brought back to Thailand on a government-organised evacuation flight on 13 October.People told the BBC they have to pay significantly more than the official fees of around 70,000 baht ($2,100) to get to Israel - often up to 120,000 baht including extra costs and unofficial payments.The 34-year-old is one of more than 25,000 Thais who were working on farms and orchards in Israel when the Hamas militants stormed in from Gaza.And there have been warnings of dire consequences for the country\\'s agricultural economy if large numbers of Thais choose to stay away after the Hamas attack.But in reality, [they] are still poor migrant workers, poor rice farmers who have been neglected by the government.Golf had been working at an orange orchard in Yesha, just 5km (three miles) from the border with Gaza, for nearly a year.The mainly rural region is one of the poorest in the country, where rice farming provides only a bare subsistence living and well-paid jobs are scarce.This is weighing on the mind of Anusorn Kamang, a 25-year-old whose mother also mortgaged her land for him to go to Israel.The Thai government has promised to reimburse that cost, but his mother\\'s debt is still there, and he is thinking about going back, once the fighting stops.They borrow money against their land or their house - and they normally work in Israel for at least five years, so they can pay off what they owe.Many of the Thai workers have to borrow money to go to Israel and now they are returning, jobless and in debt.  In the evening, says Golf, the Hamas attackers returned, throwing grenades and setting the rooms where they were hiding alight.\"We were all shocked and kept quiet all night - so quiet that we could hear the falling leaves,\" he says.Narissara\\'s mother mortgaged her rice-fields to raise the 200,000 baht they needed to send Nattapong to Israel.'"
      ]
     },
     "execution_count": 44,
     "metadata": {},
     "output_type": "execute_result"
    }
   ],
   "source": [
    "summary = ''.join(final_summary)\n",
    "summary"
   ]
  },
  {
   "cell_type": "markdown",
   "metadata": {},
   "source": [
    "Check the text length before and after text summarization."
   ]
  },
  {
   "cell_type": "code",
   "execution_count": 45,
   "metadata": {},
   "outputs": [
    {
     "data": {
      "text/plain": [
       "5927"
      ]
     },
     "execution_count": 45,
     "metadata": {},
     "output_type": "execute_result"
    }
   ],
   "source": [
    "len(text)"
   ]
  },
  {
   "cell_type": "code",
   "execution_count": 46,
   "metadata": {},
   "outputs": [
    {
     "data": {
      "text/plain": [
       "2517"
      ]
     },
     "execution_count": 46,
     "metadata": {},
     "output_type": "execute_result"
    }
   ],
   "source": [
    "len(summary)"
   ]
  }
 ],
 "metadata": {
  "kernelspec": {
   "display_name": "base",
   "language": "python",
   "name": "python3"
  },
  "language_info": {
   "codemirror_mode": {
    "name": "ipython",
    "version": 3
   },
   "file_extension": ".py",
   "mimetype": "text/x-python",
   "name": "python",
   "nbconvert_exporter": "python",
   "pygments_lexer": "ipython3",
   "version": "3.11.4"
  }
 },
 "nbformat": 4,
 "nbformat_minor": 2
}
